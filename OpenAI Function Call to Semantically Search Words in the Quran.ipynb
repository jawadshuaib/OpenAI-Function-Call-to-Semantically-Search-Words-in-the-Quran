{
 "cells": [
  {
   "cell_type": "markdown",
   "id": "e53109d9",
   "metadata": {},
   "source": [
    "## OpenAI Function Call to Semantically Search Words in the Quran"
   ]
  },
  {
   "cell_type": "markdown",
   "id": "5498b0f7",
   "metadata": {},
   "source": [
    "Yesterday, OpenAI announced a new feature that allows descriptive functions to query GPT. This non-deterministic paradigm opens up many new dimensions for software developers. In this notebook, I share how to use the API."
   ]
  },
  {
   "cell_type": "markdown",
   "id": "e25dce61",
   "metadata": {},
   "source": [
    "In the following lines, we use semantic search to find word matches in the Quran. Instead of quering a relational database, we simply ask GPT using a function call. Function calls are different from prompting as we can control the returned values and also preserve tokens as no exhuberant or uncessary content is returned other than that which we have requested. \n",
    "\n",
    "Notice, the following search for the word \"orphan\" returns verses that contain the semantically similar words that closely match it. The search, however, is not always reliable with the current LLM model. I expect it will improve with GPT 4 and beyond."
   ]
  },
  {
   "cell_type": "code",
   "execution_count": 247,
   "id": "9988828a",
   "metadata": {},
   "outputs": [],
   "source": [
    "question = \"Where in the Quran is the word 'orphan' found?\""
   ]
  },
  {
   "cell_type": "code",
   "execution_count": 37,
   "id": "bfa567f4",
   "metadata": {},
   "outputs": [],
   "source": [
    "#!pip install termcolor"
   ]
  },
  {
   "cell_type": "code",
   "execution_count": 39,
   "id": "4d304b84",
   "metadata": {},
   "outputs": [],
   "source": [
    "#!pip install tenacity"
   ]
  },
  {
   "cell_type": "code",
   "execution_count": 248,
   "id": "77f1bd33",
   "metadata": {},
   "outputs": [],
   "source": [
    "import openai\n",
    "from tenacity import retry, wait_random_exponential, stop_after_attempt\n",
    "from termcolor import colored\n",
    "import requests\n",
    "import json"
   ]
  },
  {
   "cell_type": "code",
   "execution_count": 249,
   "id": "f85035f5",
   "metadata": {},
   "outputs": [],
   "source": [
    "from dotenv import load_dotenv\n",
    "import os\n",
    "\n",
    "load_dotenv(dotenv_path=\"keys/.env\")\n",
    "\n",
    "openai.api_key = os.getenv('OPEN_API_KEY_FOR_ASK_QURAN')"
   ]
  },
  {
   "cell_type": "code",
   "execution_count": 250,
   "id": "2652a3f7",
   "metadata": {},
   "outputs": [],
   "source": [
    "GPT_MODEL = \"gpt-3.5-turbo-0613\""
   ]
  },
  {
   "cell_type": "code",
   "execution_count": 251,
   "id": "633f7788",
   "metadata": {},
   "outputs": [],
   "source": [
    "@retry(wait=wait_random_exponential(min=1, max=40), stop=stop_after_attempt(3))\n",
    "def chat_completion_request(messages, functions=None, model=GPT_MODEL):\n",
    "    headers = {\n",
    "        \"Content-Type\": \"application/json\",\n",
    "        \"Authorization\": \"Bearer \" + openai.api_key,\n",
    "    }\n",
    "    json_data = {\"model\": model, \"messages\": messages}\n",
    "    if functions is not None:\n",
    "        json_data.update({\"functions\": functions})\n",
    "    try:\n",
    "        response = requests.post(\n",
    "            \"https://api.openai.com/v1/chat/completions\",\n",
    "            headers=headers,\n",
    "            json=json_data,\n",
    "        )\n",
    "        return response\n",
    "    except Exception as e:\n",
    "        print(\"Unable to generate ChatCompletion response\")\n",
    "        print(f\"Exception: {e}\")\n",
    "        return e"
   ]
  },
  {
   "cell_type": "code",
   "execution_count": 252,
   "id": "6cbfe2c4",
   "metadata": {},
   "outputs": [],
   "source": [
    "class Conversation:\n",
    "    def __init__(self):\n",
    "        self.conversation_history = []\n",
    "\n",
    "    def add_message(self, role, content):\n",
    "        message = {\"role\": role, \"content\": content}\n",
    "        self.conversation_history.append(message)\n",
    "\n",
    "    def display_conversation(self, detailed=False):\n",
    "        role_to_color = {\n",
    "            \"system\": \"red\",\n",
    "            \"user\": \"green\",\n",
    "            \"assistant\": \"blue\",\n",
    "            \"function\": \"magenta\",\n",
    "        }\n",
    "        for message in self.conversation_history:\n",
    "            print(\n",
    "                colored(\n",
    "                    f\"{message['role']}: {message['content']}\\n\\n\",\n",
    "                    role_to_color[message[\"role\"]],\n",
    "                )\n",
    "            )"
   ]
  },
  {
   "cell_type": "code",
   "execution_count": 253,
   "id": "554d3e57",
   "metadata": {},
   "outputs": [],
   "source": [
    "functions = [\n",
    "    {\n",
    "        \"name\": \"get_surah_name\",\n",
    "        \"description\": \"Get name of the Surah when user provides surah number\",\n",
    "        \"parameters\": {\n",
    "            \"type\": \"object\",\n",
    "            \"properties\": {\n",
    "                \"surah_name\": {\n",
    "                    \"type\": \"string\",\n",
    "                    \"description\": \"Name of the Surah\",\n",
    "                }\n",
    "            },\n",
    "            \"required\": [\"surah_number\"],\n",
    "        },\n",
    "    },\n",
    "    {\n",
    "        \"name\": \"find_word_in_the_quran\",\n",
    "        \"description\": \"Find all occurrences of Surahs and Ayahs where this word appears in the Quran.\",\n",
    "        \"parameters\": {\n",
    "            \"type\": \"object\",\n",
    "            \"properties\": {\n",
    "                \"ayahs\": {                    \n",
    "                    \"type\": \"object\",\n",
    "                    \"description\": \"A list of ayahs containing this word in the Quran\",\n",
    "                    \"properties\": {\n",
    "                        \"surah_number\": {\n",
    "                            \"type\": \"integer\",\n",
    "                            \"description\": \"The surah number where this word appears.\",\n",
    "                        },\n",
    "                        \"ayah_number\": {\n",
    "                            \"type\": \"integer\",\n",
    "                            \"description\": \"The ayah number where this word appears.\",\n",
    "                        },                \n",
    "                        \"surah_name\": {\n",
    "                            \"type\": \"string\",\n",
    "                            \"description\": \"Name of the Surah where this word appears.\",\n",
    "                        },\n",
    "                        \"ayah_content_in_arabic\": {\n",
    "                            \"type\": \"string\",\n",
    "                            \"description\": \"Entire content of the ayah in Arabic that contains this word.\",\n",
    "                        },   \n",
    "                        \"ayah_content_in_english\": {\n",
    "                            \"type\": \"string\",\n",
    "                            \"description\": \"Entire content of the ayah in English that contains this word.\",\n",
    "                        },                         \n",
    "                    }\n",
    "                },\n",
    "                \"source\": {\n",
    "                    \"type\": \"string\",\n",
    "                    \"description\": \"Source where this information was gathered.\",\n",
    "                },                \n",
    "            },\n",
    "            \"required\": [\"surah_number\", \"ayah_number\"],\n",
    "        },\n",
    "    }         \n",
    "]"
   ]
  },
  {
   "cell_type": "code",
   "execution_count": 254,
   "id": "d70b332c",
   "metadata": {},
   "outputs": [],
   "source": [
    "conversation = Conversation()"
   ]
  },
  {
   "cell_type": "code",
   "execution_count": 255,
   "id": "066d961e",
   "metadata": {},
   "outputs": [],
   "source": [
    "conversation.add_message(\"user\", question)"
   ]
  },
  {
   "cell_type": "code",
   "execution_count": 256,
   "id": "38318cda",
   "metadata": {},
   "outputs": [],
   "source": [
    "chat_response = chat_completion_request(\n",
    "    conversation.conversation_history,\n",
    "    functions = functions\n",
    ")"
   ]
  },
  {
   "cell_type": "code",
   "execution_count": 259,
   "id": "5743356a",
   "metadata": {},
   "outputs": [
    {
     "data": {
      "text/plain": [
       "{'ayahs': [{'surah_number': 2,\n",
       "   'ayah_number': 220,\n",
       "   'surah_name': 'Al-Baqarah',\n",
       "   'ayah_content_in_arabic': 'وَيَسْأَلُونَكَ عَنِ الْيَتَامَىٰ ۖ قُلْ إِصْلَاحٌ لَّهُمْ خَيْرٌ ۖ وَإِن تُخَالِطُوهُمْ فَإِخْوَانُكُمْ ۚ وَٱللَّهُ يَعْلَمُ ٱلْمُفْسِدَ مِنَ ٱلْمُصْلِحِ ۚ وَلَوْ شَاءَ ٱللَّهُ لَأَعْنَتَكُمْ ۚ إِنَّ ٱللَّهَ عَزِيزٌ حَكِيمٌ',\n",
       "   'ayah_content_in_english': 'And they ask you about orphans. Say, \"Improvement for them is best. And if you mix your affairs with theirs - they are your brothers. And Allah knows the corrupter from the amender. And if Allah had willed, He could have put you in difficulty. Indeed, Allah is Exalted in Might and Wise.\"'},\n",
       "  {'surah_number': 93,\n",
       "   'ayah_number': 9,\n",
       "   'surah_name': 'Ad-Duha',\n",
       "   'ayah_content_in_arabic': 'أَمَّا ٱلْيَتِيمَ فَلَا تَقْهَرْ',\n",
       "   'ayah_content_in_english': 'But as for the orphan, do not oppress [him].'},\n",
       "  {'surah_number': 93,\n",
       "   'ayah_number': 10,\n",
       "   'surah_name': 'Ad-Duha',\n",
       "   'ayah_content_in_arabic': 'وَأَمَّا ٱلسَّآئِلَ فَلَا تَنْهَرْ',\n",
       "   'ayah_content_in_english': 'And as for the petitioner, do not repel [him].'}],\n",
       " 'source': 'Quran'}"
      ]
     },
     "execution_count": 259,
     "metadata": {},
     "output_type": "execute_result"
    }
   ],
   "source": [
    "json.loads(chat_response.json()['choices'][0]['message']['function_call']['arguments'])"
   ]
  }
 ],
 "metadata": {
  "kernelspec": {
   "display_name": "Python 3 (ipykernel)",
   "language": "python",
   "name": "python3"
  },
  "language_info": {
   "codemirror_mode": {
    "name": "ipython",
    "version": 3
   },
   "file_extension": ".py",
   "mimetype": "text/x-python",
   "name": "python",
   "nbconvert_exporter": "python",
   "pygments_lexer": "ipython3",
   "version": "3.9.6"
  }
 },
 "nbformat": 4,
 "nbformat_minor": 5
}
