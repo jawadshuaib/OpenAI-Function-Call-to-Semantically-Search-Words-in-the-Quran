{
 "cells": [
  {
   "cell_type": "markdown",
   "id": "50b5f462",
   "metadata": {},
   "source": [
    "## OpenAI Function Call to Get Answers from the Quran"
   ]
  },
  {
   "cell_type": "code",
   "execution_count": 76,
   "id": "f9678b85",
   "metadata": {},
   "outputs": [],
   "source": [
    "question = \"What is the weather like in San Francisco, US?\""
   ]
  },
  {
   "cell_type": "code",
   "execution_count": 37,
   "id": "6e335cf8",
   "metadata": {},
   "outputs": [],
   "source": [
    "#!pip install termcolor"
   ]
  },
  {
   "cell_type": "code",
   "execution_count": 39,
   "id": "77b7f05c",
   "metadata": {},
   "outputs": [],
   "source": [
    "#!pip install tenacity"
   ]
  },
  {
   "cell_type": "code",
   "execution_count": 52,
   "id": "a597213a",
   "metadata": {},
   "outputs": [],
   "source": [
    "import openai\n",
    "from tenacity import retry, wait_random_exponential, stop_after_attempt\n",
    "from termcolor import colored\n",
    "import requests\n",
    "import json"
   ]
  },
  {
   "cell_type": "code",
   "execution_count": 41,
   "id": "06633f0a",
   "metadata": {},
   "outputs": [],
   "source": [
    "from dotenv import load_dotenv\n",
    "import os\n",
    "\n",
    "load_dotenv(dotenv_path=\"keys/.env\")\n",
    "\n",
    "openai.api_key = os.getenv('OPEN_API_KEY_FOR_ASK_QURAN')"
   ]
  },
  {
   "cell_type": "code",
   "execution_count": 43,
   "id": "3f205c8d",
   "metadata": {},
   "outputs": [],
   "source": [
    "GPT_MODEL = \"gpt-3.5-turbo-0613\""
   ]
  },
  {
   "cell_type": "code",
   "execution_count": 62,
   "id": "7271263c",
   "metadata": {},
   "outputs": [],
   "source": [
    "@retry(wait=wait_random_exponential(min=1, max=40), stop=stop_after_attempt(3))\n",
    "def chat_completion_request(messages, functions=None, model=GPT_MODEL):\n",
    "    headers = {\n",
    "        \"Content-Type\": \"application/json\",\n",
    "        \"Authorization\": \"Bearer \" + openai.api_key,\n",
    "    }\n",
    "    json_data = {\"model\": model, \"messages\": messages}\n",
    "    if functions is not None:\n",
    "        json_data.update({\"functions\": functions})\n",
    "    try:\n",
    "        response = requests.post(\n",
    "            \"https://api.openai.com/v1/chat/completions\",\n",
    "            headers=headers,\n",
    "            json=json_data,\n",
    "        )\n",
    "        return response\n",
    "    except Exception as e:\n",
    "        print(\"Unable to generate ChatCompletion response\")\n",
    "        print(f\"Exception: {e}\")\n",
    "        return e"
   ]
  },
  {
   "cell_type": "code",
   "execution_count": 63,
   "id": "14a0dc87",
   "metadata": {},
   "outputs": [],
   "source": [
    "class Conversation:\n",
    "    def __init__(self):\n",
    "        self.conversation_history = []\n",
    "\n",
    "    def add_message(self, role, content):\n",
    "        message = {\"role\": role, \"content\": content}\n",
    "        self.conversation_history.append(message)\n",
    "\n",
    "    def display_conversation(self, detailed=False):\n",
    "        role_to_color = {\n",
    "            \"system\": \"red\",\n",
    "            \"user\": \"green\",\n",
    "            \"assistant\": \"blue\",\n",
    "            \"function\": \"magenta\",\n",
    "        }\n",
    "        for message in self.conversation_history:\n",
    "            print(\n",
    "                colored(\n",
    "                    f\"{message['role']}: {message['content']}\\n\\n\",\n",
    "                    role_to_color[message[\"role\"]],\n",
    "                )\n",
    "            )"
   ]
  },
  {
   "cell_type": "code",
   "execution_count": 80,
   "id": "e6c2f2ab",
   "metadata": {},
   "outputs": [],
   "source": [
    "functions = [\n",
    "    {\n",
    "        \"name\": \"get_current_weather\",\n",
    "        \"description\": \"Get the current weather\",\n",
    "        \"parameters\": {\n",
    "            \"type\": \"object\",\n",
    "            \"properties\": {\n",
    "                \"location\": {\n",
    "                    \"type\": \"string\",\n",
    "                    \"description\": \"The city and state, e.g. San Francisco, CA\",\n",
    "                },\n",
    "                \"temperature\": {\n",
    "                    \"type\": \"string\",\n",
    "                    \"description\": \"Current temperature at this location\",\n",
    "                },\n",
    "                \"format\": {\n",
    "                    \"type\": \"string\",\n",
    "                    \"enum\": [\"celsius\", \"fahrenheit\"],\n",
    "                    \"description\": \"The temperature unit used at the location requested.\",\n",
    "                },\n",
    "            },\n",
    "            \"required\": [\"location\", \"format\"],\n",
    "        },\n",
    "    }\n",
    "]"
   ]
  },
  {
   "cell_type": "code",
   "execution_count": 71,
   "id": "20cc8fdf",
   "metadata": {},
   "outputs": [],
   "source": [
    "def get_current_weather (location, format):\n",
    "    return [\"Toronto\", \"23C\", \"celsius\"] "
   ]
  },
  {
   "cell_type": "code",
   "execution_count": 81,
   "id": "6a5f562f",
   "metadata": {},
   "outputs": [],
   "source": [
    "conversation = Conversation()"
   ]
  },
  {
   "cell_type": "code",
   "execution_count": 82,
   "id": "af226f80",
   "metadata": {},
   "outputs": [],
   "source": [
    "conversation.add_message(\"user\", question)"
   ]
  },
  {
   "cell_type": "code",
   "execution_count": 83,
   "id": "26445df5",
   "metadata": {},
   "outputs": [
    {
     "data": {
      "text/plain": [
       "{'id': 'chatcmpl-7SD46aOtxM4kdetoUo5QoZHe39qAI',\n",
       " 'object': 'chat.completion',\n",
       " 'created': 1686957762,\n",
       " 'model': 'gpt-3.5-turbo-0613',\n",
       " 'choices': [{'index': 0,\n",
       "   'message': {'role': 'assistant',\n",
       "    'content': None,\n",
       "    'function_call': {'name': 'get_current_weather',\n",
       "     'arguments': '{\\n  \"location\": \"San Francisco, US\",\\n  \"format\": \"celsius\"\\n}'}},\n",
       "   'finish_reason': 'function_call'}],\n",
       " 'usage': {'prompt_tokens': 106, 'completion_tokens': 27, 'total_tokens': 133}}"
      ]
     },
     "execution_count": 83,
     "metadata": {},
     "output_type": "execute_result"
    }
   ],
   "source": [
    "chat_response = chat_completion_request(\n",
    "    conversation.conversation_history,\n",
    "    functions = functions\n",
    ")\n",
    "\n",
    "chat_response.json()"
   ]
  },
  {
   "cell_type": "code",
   "execution_count": 84,
   "id": "197eb14b",
   "metadata": {},
   "outputs": [
    {
     "data": {
      "text/plain": [
       "{'location': 'San Francisco, US', 'format': 'celsius'}"
      ]
     },
     "execution_count": 84,
     "metadata": {},
     "output_type": "execute_result"
    }
   ],
   "source": [
    "json.loads(chat_response.json()['choices'][0]['message']['function_call']['arguments'])"
   ]
  }
 ],
 "metadata": {
  "kernelspec": {
   "display_name": "Python 3 (ipykernel)",
   "language": "python",
   "name": "python3"
  },
  "language_info": {
   "codemirror_mode": {
    "name": "ipython",
    "version": 3
   },
   "file_extension": ".py",
   "mimetype": "text/x-python",
   "name": "python",
   "nbconvert_exporter": "python",
   "pygments_lexer": "ipython3",
   "version": "3.9.6"
  }
 },
 "nbformat": 4,
 "nbformat_minor": 5
}
